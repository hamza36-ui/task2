{
  "cells": [
    {
      "cell_type": "markdown",
      "metadata": {
        "id": "view-in-github",
        "colab_type": "text"
      },
      "source": [
        "<a href=\"https://colab.research.google.com/github/hamza36-ui/task2/blob/main/Pandas%2BPractice.ipynb\" target=\"_parent\"><img src=\"https://colab.research.google.com/assets/colab-badge.svg\" alt=\"Open In Colab\"/></a>"
      ]
    },
    {
      "cell_type": "markdown",
      "metadata": {
        "collapsed": true,
        "jupyter": {
          "outputs_hidden": true
        },
        "id": "37uIuquSMHmG"
      },
      "source": [
        "# Part 1"
      ]
    },
    {
      "cell_type": "markdown",
      "metadata": {
        "id": "ZjHhiJmFMHmH"
      },
      "source": [
        "The file \"Purchase_Data.csv\" contains purchase data at a Chinese supermarket for various products.  Read this csv into a dataframe called df_data and use the head() method to check that you have read in the data correctly. Make sure you import pandas."
      ]
    },
    {
      "cell_type": "code",
      "execution_count": 1,
      "metadata": {
        "jupyter": {
          "outputs_hidden": false
        },
        "colab": {
          "base_uri": "https://localhost:8080/"
        },
        "id": "Khz45h_QMHmH",
        "outputId": "3d3809ec-0963-40ce-d5d1-5bae8bb88e7f"
      },
      "outputs": [
        {
          "output_type": "stream",
          "name": "stdout",
          "text": [
            "Mounted at /content/drive\n",
            "CSV file loaded successfully! Here are the first few rows:\n",
            "   invoice_number   invoice_time store_id  product_id  category_id  num_item  \\\n",
            "0    2.020000e+11  7/15/15 10:45     G816     7000300       210101       1.0   \n",
            "1    2.020000e+11  7/15/15 12:16     G816     7070884        70203       1.0   \n",
            "2    2.020000e+11  7/15/15 12:16     G816     7070884        70203       1.0   \n",
            "3    2.020000e+11  7/15/15 12:16     G816     7070891        70401       1.0   \n",
            "4    2.020000e+11  7/15/15 12:16     G816     7090363        70401       1.0   \n",
            "\n",
            "   price  \n",
            "0    2.0  \n",
            "1    2.0  \n",
            "2    2.0  \n",
            "3    6.0  \n",
            "4    6.0  \n"
          ]
        }
      ],
      "source": [
        "# Step 1: Mount Google Drive\n",
        "from google.colab import drive\n",
        "drive.mount('/content/drive')\n",
        "\n",
        "# Step 2: Import pandas\n",
        "import pandas as pd\n",
        "import numpy as np\n",
        "\n",
        "file_path = '/content/drive/MyDrive/Data/Purchase_Data.csv'\n",
        "df = pd.read_csv(file_path)\n",
        "\n",
        "\n",
        "print(\"CSV file loaded successfully! Here are the first few rows:\")\n",
        "print(df.head())"
      ]
    },
    {
      "cell_type": "markdown",
      "metadata": {
        "id": "RXA-CMj5MHmH"
      },
      "source": [
        "Use the dtypes attribute to view how each column is stored"
      ]
    },
    {
      "cell_type": "code",
      "execution_count": 5,
      "metadata": {
        "jupyter": {
          "outputs_hidden": false
        },
        "colab": {
          "base_uri": "https://localhost:8080/",
          "height": 437
        },
        "id": "2V0NPnlzMHmI",
        "outputId": "4d927a8f-5c5f-4760-f191-22b412cc2432"
      },
      "outputs": [
        {
          "output_type": "display_data",
          "data": {
            "text/plain": [
              "<IPython.core.display.HTML object>"
            ],
            "text/html": [
              "\n",
              "     <input type=\"file\" id=\"files-dde4e18b-3900-4f16-b9d2-5c778dc75fc1\" name=\"files[]\" multiple disabled\n",
              "        style=\"border:none\" />\n",
              "     <output id=\"result-dde4e18b-3900-4f16-b9d2-5c778dc75fc1\">\n",
              "      Upload widget is only available when the cell has been executed in the\n",
              "      current browser session. Please rerun this cell to enable.\n",
              "      </output>\n",
              "      <script>// Copyright 2017 Google LLC\n",
              "//\n",
              "// Licensed under the Apache License, Version 2.0 (the \"License\");\n",
              "// you may not use this file except in compliance with the License.\n",
              "// You may obtain a copy of the License at\n",
              "//\n",
              "//      http://www.apache.org/licenses/LICENSE-2.0\n",
              "//\n",
              "// Unless required by applicable law or agreed to in writing, software\n",
              "// distributed under the License is distributed on an \"AS IS\" BASIS,\n",
              "// WITHOUT WARRANTIES OR CONDITIONS OF ANY KIND, either express or implied.\n",
              "// See the License for the specific language governing permissions and\n",
              "// limitations under the License.\n",
              "\n",
              "/**\n",
              " * @fileoverview Helpers for google.colab Python module.\n",
              " */\n",
              "(function(scope) {\n",
              "function span(text, styleAttributes = {}) {\n",
              "  const element = document.createElement('span');\n",
              "  element.textContent = text;\n",
              "  for (const key of Object.keys(styleAttributes)) {\n",
              "    element.style[key] = styleAttributes[key];\n",
              "  }\n",
              "  return element;\n",
              "}\n",
              "\n",
              "// Max number of bytes which will be uploaded at a time.\n",
              "const MAX_PAYLOAD_SIZE = 100 * 1024;\n",
              "\n",
              "function _uploadFiles(inputId, outputId) {\n",
              "  const steps = uploadFilesStep(inputId, outputId);\n",
              "  const outputElement = document.getElementById(outputId);\n",
              "  // Cache steps on the outputElement to make it available for the next call\n",
              "  // to uploadFilesContinue from Python.\n",
              "  outputElement.steps = steps;\n",
              "\n",
              "  return _uploadFilesContinue(outputId);\n",
              "}\n",
              "\n",
              "// This is roughly an async generator (not supported in the browser yet),\n",
              "// where there are multiple asynchronous steps and the Python side is going\n",
              "// to poll for completion of each step.\n",
              "// This uses a Promise to block the python side on completion of each step,\n",
              "// then passes the result of the previous step as the input to the next step.\n",
              "function _uploadFilesContinue(outputId) {\n",
              "  const outputElement = document.getElementById(outputId);\n",
              "  const steps = outputElement.steps;\n",
              "\n",
              "  const next = steps.next(outputElement.lastPromiseValue);\n",
              "  return Promise.resolve(next.value.promise).then((value) => {\n",
              "    // Cache the last promise value to make it available to the next\n",
              "    // step of the generator.\n",
              "    outputElement.lastPromiseValue = value;\n",
              "    return next.value.response;\n",
              "  });\n",
              "}\n",
              "\n",
              "/**\n",
              " * Generator function which is called between each async step of the upload\n",
              " * process.\n",
              " * @param {string} inputId Element ID of the input file picker element.\n",
              " * @param {string} outputId Element ID of the output display.\n",
              " * @return {!Iterable<!Object>} Iterable of next steps.\n",
              " */\n",
              "function* uploadFilesStep(inputId, outputId) {\n",
              "  const inputElement = document.getElementById(inputId);\n",
              "  inputElement.disabled = false;\n",
              "\n",
              "  const outputElement = document.getElementById(outputId);\n",
              "  outputElement.innerHTML = '';\n",
              "\n",
              "  const pickedPromise = new Promise((resolve) => {\n",
              "    inputElement.addEventListener('change', (e) => {\n",
              "      resolve(e.target.files);\n",
              "    });\n",
              "  });\n",
              "\n",
              "  const cancel = document.createElement('button');\n",
              "  inputElement.parentElement.appendChild(cancel);\n",
              "  cancel.textContent = 'Cancel upload';\n",
              "  const cancelPromise = new Promise((resolve) => {\n",
              "    cancel.onclick = () => {\n",
              "      resolve(null);\n",
              "    };\n",
              "  });\n",
              "\n",
              "  // Wait for the user to pick the files.\n",
              "  const files = yield {\n",
              "    promise: Promise.race([pickedPromise, cancelPromise]),\n",
              "    response: {\n",
              "      action: 'starting',\n",
              "    }\n",
              "  };\n",
              "\n",
              "  cancel.remove();\n",
              "\n",
              "  // Disable the input element since further picks are not allowed.\n",
              "  inputElement.disabled = true;\n",
              "\n",
              "  if (!files) {\n",
              "    return {\n",
              "      response: {\n",
              "        action: 'complete',\n",
              "      }\n",
              "    };\n",
              "  }\n",
              "\n",
              "  for (const file of files) {\n",
              "    const li = document.createElement('li');\n",
              "    li.append(span(file.name, {fontWeight: 'bold'}));\n",
              "    li.append(span(\n",
              "        `(${file.type || 'n/a'}) - ${file.size} bytes, ` +\n",
              "        `last modified: ${\n",
              "            file.lastModifiedDate ? file.lastModifiedDate.toLocaleDateString() :\n",
              "                                    'n/a'} - `));\n",
              "    const percent = span('0% done');\n",
              "    li.appendChild(percent);\n",
              "\n",
              "    outputElement.appendChild(li);\n",
              "\n",
              "    const fileDataPromise = new Promise((resolve) => {\n",
              "      const reader = new FileReader();\n",
              "      reader.onload = (e) => {\n",
              "        resolve(e.target.result);\n",
              "      };\n",
              "      reader.readAsArrayBuffer(file);\n",
              "    });\n",
              "    // Wait for the data to be ready.\n",
              "    let fileData = yield {\n",
              "      promise: fileDataPromise,\n",
              "      response: {\n",
              "        action: 'continue',\n",
              "      }\n",
              "    };\n",
              "\n",
              "    // Use a chunked sending to avoid message size limits. See b/62115660.\n",
              "    let position = 0;\n",
              "    do {\n",
              "      const length = Math.min(fileData.byteLength - position, MAX_PAYLOAD_SIZE);\n",
              "      const chunk = new Uint8Array(fileData, position, length);\n",
              "      position += length;\n",
              "\n",
              "      const base64 = btoa(String.fromCharCode.apply(null, chunk));\n",
              "      yield {\n",
              "        response: {\n",
              "          action: 'append',\n",
              "          file: file.name,\n",
              "          data: base64,\n",
              "        },\n",
              "      };\n",
              "\n",
              "      let percentDone = fileData.byteLength === 0 ?\n",
              "          100 :\n",
              "          Math.round((position / fileData.byteLength) * 100);\n",
              "      percent.textContent = `${percentDone}% done`;\n",
              "\n",
              "    } while (position < fileData.byteLength);\n",
              "  }\n",
              "\n",
              "  // All done.\n",
              "  yield {\n",
              "    response: {\n",
              "      action: 'complete',\n",
              "    }\n",
              "  };\n",
              "}\n",
              "\n",
              "scope.google = scope.google || {};\n",
              "scope.google.colab = scope.google.colab || {};\n",
              "scope.google.colab._files = {\n",
              "  _uploadFiles,\n",
              "  _uploadFilesContinue,\n",
              "};\n",
              "})(self);\n",
              "</script> "
            ]
          },
          "metadata": {}
        },
        {
          "output_type": "stream",
          "name": "stdout",
          "text": [
            "Saving Purchase_Data.csv to Purchase_Data (1).csv\n",
            "   invoice_number   invoice_time store_id  product_id  category_id  num_item  \\\n",
            "0    2.020000e+11  7/15/15 10:45     G816     7000300       210101       1.0   \n",
            "1    2.020000e+11  7/15/15 12:16     G816     7070884        70203       1.0   \n",
            "2    2.020000e+11  7/15/15 12:16     G816     7070884        70203       1.0   \n",
            "3    2.020000e+11  7/15/15 12:16     G816     7070891        70401       1.0   \n",
            "4    2.020000e+11  7/15/15 12:16     G816     7090363        70401       1.0   \n",
            "\n",
            "   price  \n",
            "0    2.0  \n",
            "1    2.0  \n",
            "2    2.0  \n",
            "3    6.0  \n",
            "4    6.0  \n",
            "invoice_number    float64\n",
            "invoice_time       object\n",
            "store_id           object\n",
            "product_id          int64\n",
            "category_id         int64\n",
            "num_item          float64\n",
            "price             float64\n",
            "dtype: object\n"
          ]
        }
      ],
      "source": [
        "from google.colab import files\n",
        "uploaded = files.upload()\n",
        "\n",
        "import pandas as pd\n",
        "\n",
        "df_data = pd.read_csv(\"Purchase_Data.csv\")\n",
        "\n",
        "print(df_data.head())\n",
        "print(df_data.dtypes)"
      ]
    },
    {
      "cell_type": "markdown",
      "metadata": {
        "id": "JlfnmH50MHmI"
      },
      "source": [
        "Slice the first two columns using .loc and store the result in a variable called result_1."
      ]
    },
    {
      "cell_type": "code",
      "execution_count": 6,
      "metadata": {
        "jupyter": {
          "outputs_hidden": false
        },
        "colab": {
          "base_uri": "https://localhost:8080/"
        },
        "id": "t0q9DAwRMHmI",
        "outputId": "0b57fc01-2c54-43d9-eeec-05c588de7312"
      },
      "outputs": [
        {
          "output_type": "stream",
          "name": "stdout",
          "text": [
            "   invoice_number   invoice_time\n",
            "0    2.020000e+11  7/15/15 10:45\n",
            "1    2.020000e+11  7/15/15 12:16\n",
            "2    2.020000e+11  7/15/15 12:16\n",
            "3    2.020000e+11  7/15/15 12:16\n",
            "4    2.020000e+11  7/15/15 12:16\n"
          ]
        }
      ],
      "source": [
        "\n",
        "result_1 = df_data.loc[:, df_data.columns[0:2]]\n",
        "\n",
        "print(result_1.head())\n"
      ]
    },
    {
      "cell_type": "markdown",
      "metadata": {
        "id": "tYvp56BhMHmI"
      },
      "source": [
        "Slice the first two rows using .loc and store the result in a variable called result_2."
      ]
    },
    {
      "cell_type": "code",
      "execution_count": 7,
      "metadata": {
        "jupyter": {
          "outputs_hidden": false
        },
        "colab": {
          "base_uri": "https://localhost:8080/"
        },
        "id": "6fwX6cy4MHmI",
        "outputId": "e007148a-3fc1-4d15-c53d-a99132ac323a"
      },
      "outputs": [
        {
          "output_type": "stream",
          "name": "stdout",
          "text": [
            "   invoice_number   invoice_time store_id  product_id  category_id  num_item  \\\n",
            "0    2.020000e+11  7/15/15 10:45     G816     7000300       210101       1.0   \n",
            "1    2.020000e+11  7/15/15 12:16     G816     7070884        70203       1.0   \n",
            "\n",
            "   price  \n",
            "0    2.0  \n",
            "1    2.0  \n"
          ]
        }
      ],
      "source": [
        "result_2 = df_data.loc[0:1, :]\n",
        "print(result_2)"
      ]
    },
    {
      "cell_type": "markdown",
      "metadata": {
        "id": "CC4udgqAMHmI"
      },
      "source": [
        "Slice the first four rows and the first five columns and store the result in a variable called result_3."
      ]
    },
    {
      "cell_type": "code",
      "execution_count": 8,
      "metadata": {
        "jupyter": {
          "outputs_hidden": false
        },
        "colab": {
          "base_uri": "https://localhost:8080/"
        },
        "id": "kdVKvO2iMHmJ",
        "outputId": "97fafe13-0063-435c-c20c-8986a3f11fc1"
      },
      "outputs": [
        {
          "output_type": "stream",
          "name": "stdout",
          "text": [
            "   invoice_number   invoice_time store_id  product_id  category_id\n",
            "0    2.020000e+11  7/15/15 10:45     G816     7000300       210101\n",
            "1    2.020000e+11  7/15/15 12:16     G816     7070884        70203\n",
            "2    2.020000e+11  7/15/15 12:16     G816     7070884        70203\n",
            "3    2.020000e+11  7/15/15 12:16     G816     7070891        70401\n"
          ]
        }
      ],
      "source": [
        "result_3 = df_data.loc[0:3, df_data.columns[0:5]]\n",
        "print(result_3)"
      ]
    },
    {
      "cell_type": "markdown",
      "metadata": {
        "id": "XSrmcLZTMHmJ"
      },
      "source": [
        "Slice rows 0,4,6 and columns invoice time and price and store the result in variable called result_4."
      ]
    },
    {
      "cell_type": "code",
      "execution_count": 9,
      "metadata": {
        "jupyter": {
          "outputs_hidden": false
        },
        "colab": {
          "base_uri": "https://localhost:8080/"
        },
        "id": "vNmtvty-MHmJ",
        "outputId": "02097b32-32f8-47c3-e9a1-27310085cb7e"
      },
      "outputs": [
        {
          "output_type": "stream",
          "name": "stdout",
          "text": [
            "    invoice_time  price\n",
            "0  7/15/15 10:45    2.0\n",
            "4  7/15/15 12:16    6.0\n",
            "6  7/15/15 15:28    2.0\n"
          ]
        }
      ],
      "source": [
        "result_4 = df_data.loc[[0, 4, 6], [\"invoice_time\", \"price\"]]\n",
        "print(result_4)"
      ]
    },
    {
      "cell_type": "markdown",
      "metadata": {
        "id": "YOKCvtwdMHmJ"
      },
      "source": [
        "Store the number rows in a variable called num_rows."
      ]
    },
    {
      "cell_type": "code",
      "execution_count": 10,
      "metadata": {
        "jupyter": {
          "outputs_hidden": false
        },
        "colab": {
          "base_uri": "https://localhost:8080/"
        },
        "id": "dnfPOMHPMHmJ",
        "outputId": "82299317-09a7-4567-ed19-8c9fadfb6f91"
      },
      "outputs": [
        {
          "output_type": "stream",
          "name": "stdout",
          "text": [
            "5382\n"
          ]
        }
      ],
      "source": [
        "num_rows = df_data.shape[0]\n",
        "print(num_rows)"
      ]
    },
    {
      "cell_type": "markdown",
      "metadata": {
        "id": "bwroQy_wMHmJ"
      },
      "source": [
        "Print out the last row of the data to dataframe. **Hint:** use the variable num_rows from the previous exercise."
      ]
    },
    {
      "cell_type": "code",
      "execution_count": 11,
      "metadata": {
        "jupyter": {
          "outputs_hidden": false
        },
        "colab": {
          "base_uri": "https://localhost:8080/"
        },
        "id": "1bZX9YiFMHmJ",
        "outputId": "d071cef5-604f-4c40-d164-64733e5ac76e"
      },
      "outputs": [
        {
          "output_type": "stream",
          "name": "stdout",
          "text": [
            "invoice_number    202000000000.0\n",
            "invoice_time        9/5/15 23:38\n",
            "store_id                    G619\n",
            "product_id              23030206\n",
            "category_id               210101\n",
            "num_item                     1.0\n",
            "price                        2.0\n",
            "Name: 5381, dtype: object\n"
          ]
        }
      ],
      "source": [
        "last_row = df_data.loc[num_rows - 1, :]\n",
        "print(last_row)"
      ]
    },
    {
      "cell_type": "markdown",
      "metadata": {
        "id": "bRSxzd7jMHmJ"
      },
      "source": [
        "# Part 2"
      ]
    },
    {
      "cell_type": "markdown",
      "metadata": {
        "id": "gHBRZz9IMHmJ"
      },
      "source": [
        "Compute the average and max price charged.  Store the results in variables called avg_price and max_price"
      ]
    },
    {
      "cell_type": "code",
      "execution_count": 12,
      "metadata": {
        "jupyter": {
          "outputs_hidden": false
        },
        "colab": {
          "base_uri": "https://localhost:8080/"
        },
        "id": "mTK9rzTaMHmJ",
        "outputId": "0a2bde89-f189-4808-efaf-7c02472e5e04"
      },
      "outputs": [
        {
          "output_type": "stream",
          "name": "stdout",
          "text": [
            "Average Price: 3.1920522110741363\n",
            "Max Price: 6.01\n"
          ]
        }
      ],
      "source": [
        "avg_price = df_data[\"price\"].mean()\n",
        "max_price = df_data[\"price\"].max()\n",
        "\n",
        "print(\"Average Price:\", avg_price)\n",
        "print(\"Max Price:\", max_price)"
      ]
    },
    {
      "cell_type": "markdown",
      "metadata": {
        "id": "XUGnER_OMHmK"
      },
      "source": [
        "Compute the average price and average number of items purchased with only a single call to the mean() method. Store these averages in avg_price and avg_num_items."
      ]
    },
    {
      "cell_type": "code",
      "execution_count": 13,
      "metadata": {
        "jupyter": {
          "outputs_hidden": false
        },
        "colab": {
          "base_uri": "https://localhost:8080/"
        },
        "id": "lreIfjqeMHmK",
        "outputId": "ff586ac2-405a-4be9-bacb-5a8bc78c02c2"
      },
      "outputs": [
        {
          "output_type": "stream",
          "name": "stdout",
          "text": [
            "Average Price: 3.1920522110741363\n",
            "Average Number of Items: 1.2983091787439613\n"
          ]
        }
      ],
      "source": [
        "avg_price, avg_num_items = df_data[[\"price\", \"num_item\"]].mean()\n",
        "\n",
        "print(\"Average Price:\", avg_price)\n",
        "print(\"Average Number of Items:\", avg_num_items)"
      ]
    },
    {
      "cell_type": "markdown",
      "metadata": {
        "id": "HS0CAPZMMHmK"
      },
      "source": [
        "Create a column called \"total\", which is the product of the price and num_item columns."
      ]
    },
    {
      "cell_type": "code",
      "execution_count": 14,
      "metadata": {
        "jupyter": {
          "outputs_hidden": false
        },
        "colab": {
          "base_uri": "https://localhost:8080/"
        },
        "id": "M--VunLNMHmK",
        "outputId": "b6a768a7-f588-480f-a64e-1e3c8bfc429e"
      },
      "outputs": [
        {
          "output_type": "stream",
          "name": "stdout",
          "text": [
            "   invoice_number   invoice_time store_id  product_id  category_id  num_item  \\\n",
            "0    2.020000e+11  7/15/15 10:45     G816     7000300       210101       1.0   \n",
            "1    2.020000e+11  7/15/15 12:16     G816     7070884        70203       1.0   \n",
            "2    2.020000e+11  7/15/15 12:16     G816     7070884        70203       1.0   \n",
            "3    2.020000e+11  7/15/15 12:16     G816     7070891        70401       1.0   \n",
            "4    2.020000e+11  7/15/15 12:16     G816     7090363        70401       1.0   \n",
            "\n",
            "   price  total  \n",
            "0    2.0    2.0  \n",
            "1    2.0    2.0  \n",
            "2    2.0    2.0  \n",
            "3    6.0    6.0  \n",
            "4    6.0    6.0  \n"
          ]
        }
      ],
      "source": [
        "df_data[\"total\"] = df_data[\"price\"] * df_data[\"num_item\"]\n",
        "print(df_data.head())"
      ]
    },
    {
      "cell_type": "markdown",
      "metadata": {
        "id": "HpET7WQCMHmK"
      },
      "source": [
        "What is the avgerage price of the three most expensive purchases?"
      ]
    },
    {
      "cell_type": "code",
      "execution_count": 15,
      "metadata": {
        "jupyter": {
          "outputs_hidden": false
        },
        "colab": {
          "base_uri": "https://localhost:8080/"
        },
        "id": "0TYgnHC9MHmK",
        "outputId": "fb34080d-6060-4474-d9fb-bfbc2f850d83"
      },
      "outputs": [
        {
          "output_type": "stream",
          "name": "stdout",
          "text": [
            "Average price of the three most expensive purchases: 6.003333333333333\n"
          ]
        }
      ],
      "source": [
        "avg_top3_price = df_data[\"price\"].nlargest(3).mean()\n",
        "print(\"Average price of the three most expensive purchases:\", avg_top3_price)"
      ]
    },
    {
      "cell_type": "markdown",
      "metadata": {
        "id": "ZGgRRQPCMHmK"
      },
      "source": [
        "How many different products are there?"
      ]
    },
    {
      "cell_type": "code",
      "execution_count": 16,
      "metadata": {
        "jupyter": {
          "outputs_hidden": false
        },
        "colab": {
          "base_uri": "https://localhost:8080/"
        },
        "id": "CWX3nLPgMHmK",
        "outputId": "e129c2f1-7155-40ef-a094-f05b20a56b41"
      },
      "outputs": [
        {
          "output_type": "stream",
          "name": "stdout",
          "text": [
            "Number of different products: 53\n"
          ]
        }
      ],
      "source": [
        "num_products = df_data[\"product_id\"].nunique()\n",
        "print(\"Number of different products:\", num_products)"
      ]
    },
    {
      "cell_type": "markdown",
      "metadata": {
        "id": "0_fy47C_MHmK"
      },
      "source": [
        "Find the difference between the mean and median of the column total.  Use the describe() method and then index the dataframe it returns."
      ]
    },
    {
      "cell_type": "code",
      "execution_count": 17,
      "metadata": {
        "jupyter": {
          "outputs_hidden": false
        },
        "colab": {
          "base_uri": "https://localhost:8080/"
        },
        "id": "EJw8qpEvMHmK",
        "outputId": "5a257cef-5644-4a51-c58d-724a817c7f80"
      },
      "outputs": [
        {
          "output_type": "stream",
          "name": "stdout",
          "text": [
            "Difference between mean and median of total: 0.9318078781127839\n"
          ]
        }
      ],
      "source": [
        "stats = df_data[\"total\"].describe()\n",
        "diff_mean_median = stats[\"mean\"] - stats[\"50%\"]\n",
        "print(\"Difference between mean and median of total:\", diff_mean_median)"
      ]
    },
    {
      "cell_type": "markdown",
      "metadata": {
        "id": "gKfaxV_TMHmK"
      },
      "source": [
        "Use the drop() method to delete the column total from the dataframe df_data."
      ]
    },
    {
      "cell_type": "code",
      "execution_count": 18,
      "metadata": {
        "jupyter": {
          "outputs_hidden": false
        },
        "colab": {
          "base_uri": "https://localhost:8080/"
        },
        "id": "jA1-6ya-MHmK",
        "outputId": "577db67b-c175-4524-9298-abe0b0e7c046"
      },
      "outputs": [
        {
          "output_type": "stream",
          "name": "stdout",
          "text": [
            "   invoice_number   invoice_time store_id  product_id  category_id  num_item  \\\n",
            "0    2.020000e+11  7/15/15 10:45     G816     7000300       210101       1.0   \n",
            "1    2.020000e+11  7/15/15 12:16     G816     7070884        70203       1.0   \n",
            "2    2.020000e+11  7/15/15 12:16     G816     7070884        70203       1.0   \n",
            "3    2.020000e+11  7/15/15 12:16     G816     7070891        70401       1.0   \n",
            "4    2.020000e+11  7/15/15 12:16     G816     7090363        70401       1.0   \n",
            "\n",
            "   price  \n",
            "0    2.0  \n",
            "1    2.0  \n",
            "2    2.0  \n",
            "3    6.0  \n",
            "4    6.0  \n"
          ]
        }
      ],
      "source": [
        "df_data = df_data.drop(columns=[\"total\"])\n",
        "print(df_data.head())"
      ]
    },
    {
      "cell_type": "markdown",
      "metadata": {
        "id": "HLd1C5ZqMHmK"
      },
      "source": [
        "Let's dig a little deeper into the data set and answer some basic question."
      ]
    },
    {
      "cell_type": "code",
      "execution_count": null,
      "metadata": {
        "jupyter": {
          "outputs_hidden": false
        },
        "id": "PdvvHYqxMHmK"
      },
      "outputs": [],
      "source": [
        "#Write your code here\n"
      ]
    },
    {
      "cell_type": "markdown",
      "metadata": {
        "id": "u4FRPHOxMHmL"
      },
      "source": [
        "First, covert the column invoice time to a datetime column. Print out the new column types to make sure this was done correctly"
      ]
    },
    {
      "cell_type": "code",
      "execution_count": 19,
      "metadata": {
        "jupyter": {
          "outputs_hidden": false
        },
        "colab": {
          "base_uri": "https://localhost:8080/"
        },
        "id": "LwRmFGuKMHmL",
        "outputId": "a9b6b49e-556f-48e6-c0f8-ec4f05e2e09f"
      },
      "outputs": [
        {
          "output_type": "stream",
          "name": "stdout",
          "text": [
            "invoice_number           float64\n",
            "invoice_time      datetime64[ns]\n",
            "store_id                  object\n",
            "product_id                 int64\n",
            "category_id                int64\n",
            "num_item                 float64\n",
            "price                    float64\n",
            "dtype: object\n"
          ]
        },
        {
          "output_type": "stream",
          "name": "stderr",
          "text": [
            "/tmp/ipython-input-735038696.py:1: UserWarning: Could not infer format, so each element will be parsed individually, falling back to `dateutil`. To ensure parsing is consistent and as-expected, please specify a format.\n",
            "  df_data[\"invoice_time\"] = pd.to_datetime(df_data[\"invoice_time\"])\n"
          ]
        }
      ],
      "source": [
        "df_data[\"invoice_time\"] = pd.to_datetime(df_data[\"invoice_time\"])\n",
        "print(df_data.dtypes)"
      ]
    },
    {
      "cell_type": "markdown",
      "metadata": {
        "id": "WVtBV2jTMHmL"
      },
      "source": [
        "Next, let's create columns called \"DOW\" and \"Month\", which store the corresponding weekday and month of the invoice respectively.  Print the head of the dataframe to make sure this was done correctly."
      ]
    },
    {
      "cell_type": "code",
      "execution_count": 20,
      "metadata": {
        "jupyter": {
          "outputs_hidden": false
        },
        "colab": {
          "base_uri": "https://localhost:8080/"
        },
        "id": "OTDjNTWdMHmL",
        "outputId": "8c153bae-39b2-43bd-afc5-eaf2e7d44add"
      },
      "outputs": [
        {
          "output_type": "stream",
          "name": "stdout",
          "text": [
            "   invoice_number        invoice_time store_id  product_id  category_id  \\\n",
            "0    2.020000e+11 2015-07-15 10:45:00     G816     7000300       210101   \n",
            "1    2.020000e+11 2015-07-15 12:16:00     G816     7070884        70203   \n",
            "2    2.020000e+11 2015-07-15 12:16:00     G816     7070884        70203   \n",
            "3    2.020000e+11 2015-07-15 12:16:00     G816     7070891        70401   \n",
            "4    2.020000e+11 2015-07-15 12:16:00     G816     7090363        70401   \n",
            "\n",
            "   num_item  price        DOW Month  \n",
            "0       1.0    2.0  Wednesday  July  \n",
            "1       1.0    2.0  Wednesday  July  \n",
            "2       1.0    2.0  Wednesday  July  \n",
            "3       1.0    6.0  Wednesday  July  \n",
            "4       1.0    6.0  Wednesday  July  \n"
          ]
        }
      ],
      "source": [
        "df_data[\"DOW\"] = df_data[\"invoice_time\"].dt.day_name()\n",
        "df_data[\"Month\"] = df_data[\"invoice_time\"].dt.month_name()\n",
        "\n",
        "print(df_data.head())"
      ]
    },
    {
      "cell_type": "markdown",
      "metadata": {
        "id": "GuPpDHy2MHmL"
      },
      "source": [
        "Create a variable called num_purchases_wed, which stores the number of purchases made on Wednesday?  You should use value_counts and then index the series it return."
      ]
    },
    {
      "cell_type": "code",
      "execution_count": 21,
      "metadata": {
        "jupyter": {
          "outputs_hidden": false
        },
        "colab": {
          "base_uri": "https://localhost:8080/"
        },
        "id": "3_ZcH6hxMHmV",
        "outputId": "a73c2c82-ae1b-4882-89c7-4966ab7a0cd3"
      },
      "outputs": [
        {
          "output_type": "stream",
          "name": "stdout",
          "text": [
            "Number of purchases on Wednesday: 959\n"
          ]
        }
      ],
      "source": [
        "num_purchases_wed = df_data[\"DOW\"].value_counts()[\"Wednesday\"]\n",
        "print(\"Number of purchases on Wednesday:\", num_purchases_wed)"
      ]
    },
    {
      "cell_type": "markdown",
      "metadata": {
        "id": "I51IUG7CMHmV"
      },
      "source": [
        "# Part 3"
      ]
    },
    {
      "cell_type": "markdown",
      "metadata": {
        "id": "jV15qH2EMHmV"
      },
      "source": [
        "In this set of practice exercises, we will be working with a demographic data regarding the passengers aboard the Titanic.  Read in the data frame and use the head() method to check that it was read in correctly."
      ]
    },
    {
      "cell_type": "code",
      "execution_count": 22,
      "metadata": {
        "jupyter": {
          "outputs_hidden": false
        },
        "colab": {
          "base_uri": "https://localhost:8080/"
        },
        "id": "ffrwtqf1MHmV",
        "outputId": "6ea9dae5-153a-46fd-96f3-434396685e41"
      },
      "outputs": [
        {
          "output_type": "stream",
          "name": "stdout",
          "text": [
            "Drive already mounted at /content/drive; to attempt to forcibly remount, call drive.mount(\"/content/drive\", force_remount=True).\n",
            "CSV file loaded successfully! Here are the first few rows:\n",
            "   PassengerId  Pclass                                          Name     Sex  \\\n",
            "0          892       3                              Kelly, Mr. James    male   \n",
            "1          893       3              Wilkes, Mrs. James (Ellen Needs)  female   \n",
            "2          894       2                     Myles, Mr. Thomas Francis    male   \n",
            "3          895       3                              Wirz, Mr. Albert    male   \n",
            "4          896       3  Hirvonen, Mrs. Alexander (Helga E Lindqvist)  female   \n",
            "\n",
            "    Age  SibSp  Parch   Ticket     Fare Cabin Embarked  \n",
            "0  34.5      0      0   330911   7.8292   NaN        Q  \n",
            "1  47.0      1      0   363272   7.0000   NaN        S  \n",
            "2  62.0      0      0   240276   9.6875   NaN        Q  \n",
            "3  27.0      0      0   315154   8.6625   NaN        S  \n",
            "4  22.0      1      1  3101298  12.2875   NaN        S  \n"
          ]
        }
      ],
      "source": [
        "# Step 1: Mount Google Drive\n",
        "from google.colab import drive\n",
        "drive.mount('/content/drive')\n",
        "\n",
        "# Step 2: Import pandas\n",
        "import pandas as pd\n",
        "import numpy as np\n",
        "\n",
        "file_path = '/content/drive/MyDrive/Data/Titanic.csv'\n",
        "df = pd.read_csv(file_path)\n",
        "\n",
        "\n",
        "print(\"CSV file loaded successfully! Here are the first few rows:\")\n",
        "print(df.head())"
      ]
    },
    {
      "cell_type": "markdown",
      "metadata": {
        "id": "-qGbEXiGMHmV"
      },
      "source": [
        "Use the rename method to change the column \"Name\" to \"Passenger_Name\" and the column \"Ticket\" to \"Ticket_Num\"."
      ]
    },
    {
      "cell_type": "code",
      "execution_count": 23,
      "metadata": {
        "jupyter": {
          "outputs_hidden": false
        },
        "colab": {
          "base_uri": "https://localhost:8080/"
        },
        "id": "xgp_WFx1MHmV",
        "outputId": "84f361c6-a966-4187-ddff-846315f32487"
      },
      "outputs": [
        {
          "output_type": "stream",
          "name": "stdout",
          "text": [
            "   PassengerId  Pclass                                Passenger_Name     Sex  \\\n",
            "0          892       3                              Kelly, Mr. James    male   \n",
            "1          893       3              Wilkes, Mrs. James (Ellen Needs)  female   \n",
            "2          894       2                     Myles, Mr. Thomas Francis    male   \n",
            "3          895       3                              Wirz, Mr. Albert    male   \n",
            "4          896       3  Hirvonen, Mrs. Alexander (Helga E Lindqvist)  female   \n",
            "\n",
            "    Age  SibSp  Parch Ticket_Num     Fare Cabin Embarked  \n",
            "0  34.5      0      0     330911   7.8292   NaN        Q  \n",
            "1  47.0      1      0     363272   7.0000   NaN        S  \n",
            "2  62.0      0      0     240276   9.6875   NaN        Q  \n",
            "3  27.0      0      0     315154   8.6625   NaN        S  \n",
            "4  22.0      1      1    3101298  12.2875   NaN        S  \n"
          ]
        }
      ],
      "source": [
        "df = df.rename(columns={\"Name\": \"Passenger_Name\", \"Ticket\": \"Ticket_Num\"})\n",
        "print(df.head())"
      ]
    },
    {
      "cell_type": "markdown",
      "metadata": {
        "id": "tD3tOlkNMHmV"
      },
      "source": [
        "Change the index of the df_titanic to the column PasengerID."
      ]
    },
    {
      "cell_type": "code",
      "execution_count": 24,
      "metadata": {
        "jupyter": {
          "outputs_hidden": false
        },
        "scrolled": true,
        "colab": {
          "base_uri": "https://localhost:8080/"
        },
        "id": "Sq-NMQwxMHmV",
        "outputId": "c38973e5-a13d-4ebc-c856-81b7c4e4f770"
      },
      "outputs": [
        {
          "output_type": "stream",
          "name": "stdout",
          "text": [
            "             Pclass                                Passenger_Name     Sex  \\\n",
            "PassengerId                                                                 \n",
            "892               3                              Kelly, Mr. James    male   \n",
            "893               3              Wilkes, Mrs. James (Ellen Needs)  female   \n",
            "894               2                     Myles, Mr. Thomas Francis    male   \n",
            "895               3                              Wirz, Mr. Albert    male   \n",
            "896               3  Hirvonen, Mrs. Alexander (Helga E Lindqvist)  female   \n",
            "\n",
            "              Age  SibSp  Parch Ticket_Num     Fare Cabin Embarked  \n",
            "PassengerId                                                         \n",
            "892          34.5      0      0     330911   7.8292   NaN        Q  \n",
            "893          47.0      1      0     363272   7.0000   NaN        S  \n",
            "894          62.0      0      0     240276   9.6875   NaN        Q  \n",
            "895          27.0      0      0     315154   8.6625   NaN        S  \n",
            "896          22.0      1      1    3101298  12.2875   NaN        S  \n"
          ]
        }
      ],
      "source": [
        "df = df.set_index(\"PassengerId\")\n",
        "print(df.head())"
      ]
    },
    {
      "cell_type": "markdown",
      "metadata": {
        "id": "_H8I-2GWMHmV"
      },
      "source": [
        "Select the name of passenger 896"
      ]
    },
    {
      "cell_type": "code",
      "execution_count": 25,
      "metadata": {
        "jupyter": {
          "outputs_hidden": false
        },
        "colab": {
          "base_uri": "https://localhost:8080/"
        },
        "id": "7Asd2Pw2MHmV",
        "outputId": "d9162d37-65a8-4e24-e453-69fde3b0e801"
      },
      "outputs": [
        {
          "output_type": "stream",
          "name": "stdout",
          "text": [
            "Passenger 896 Name: Hirvonen, Mrs. Alexander (Helga E Lindqvist)\n"
          ]
        }
      ],
      "source": [
        "passenger_896_name = df.loc[896, \"Passenger_Name\"]\n",
        "print(\"Passenger 896 Name:\", passenger_896_name)"
      ]
    },
    {
      "cell_type": "markdown",
      "metadata": {
        "id": "BXg4glXaMHmV"
      },
      "source": [
        "Change the index back to row numbers but making sure that we don't lose the PassengerId column."
      ]
    },
    {
      "cell_type": "code",
      "execution_count": 26,
      "metadata": {
        "jupyter": {
          "outputs_hidden": false
        },
        "colab": {
          "base_uri": "https://localhost:8080/"
        },
        "id": "Rf6yXNnIMHmW",
        "outputId": "f2889c0c-7336-4604-afee-89a7e5a7d917"
      },
      "outputs": [
        {
          "output_type": "stream",
          "name": "stdout",
          "text": [
            "   PassengerId  Pclass                                Passenger_Name     Sex  \\\n",
            "0          892       3                              Kelly, Mr. James    male   \n",
            "1          893       3              Wilkes, Mrs. James (Ellen Needs)  female   \n",
            "2          894       2                     Myles, Mr. Thomas Francis    male   \n",
            "3          895       3                              Wirz, Mr. Albert    male   \n",
            "4          896       3  Hirvonen, Mrs. Alexander (Helga E Lindqvist)  female   \n",
            "\n",
            "    Age  SibSp  Parch Ticket_Num     Fare Cabin Embarked  \n",
            "0  34.5      0      0     330911   7.8292   NaN        Q  \n",
            "1  47.0      1      0     363272   7.0000   NaN        S  \n",
            "2  62.0      0      0     240276   9.6875   NaN        Q  \n",
            "3  27.0      0      0     315154   8.6625   NaN        S  \n",
            "4  22.0      1      1    3101298  12.2875   NaN        S  \n"
          ]
        }
      ],
      "source": [
        "df = df.reset_index()\n",
        "print(df.head())"
      ]
    },
    {
      "cell_type": "markdown",
      "metadata": {
        "id": "WN9uCMRTMHmW"
      },
      "source": [
        "How many missing entries are there in the Age column? Use the isnull() method and recall than Booleans are exactly like 1s (True) and 0s (False)."
      ]
    },
    {
      "cell_type": "code",
      "execution_count": 27,
      "metadata": {
        "jupyter": {
          "outputs_hidden": false
        },
        "colab": {
          "base_uri": "https://localhost:8080/"
        },
        "id": "djGnWLyfMHmW",
        "outputId": "cd9a3874-a58f-4fad-bf6b-b50393ab30a3"
      },
      "outputs": [
        {
          "output_type": "stream",
          "name": "stdout",
          "text": [
            "Number of missing entries in Age column: 86\n"
          ]
        }
      ],
      "source": [
        "missing_age = df[\"Age\"].isnull().sum()\n",
        "print(\"Number of missing entries in Age column:\", missing_age)"
      ]
    },
    {
      "cell_type": "markdown",
      "metadata": {
        "id": "1-Ui_tN8MHmW"
      },
      "source": [
        "Compute the avg age of passengers ignoring the missing data."
      ]
    },
    {
      "cell_type": "code",
      "execution_count": 28,
      "metadata": {
        "jupyter": {
          "outputs_hidden": false
        },
        "colab": {
          "base_uri": "https://localhost:8080/"
        },
        "id": "eDh8IXpEMHmW",
        "outputId": "9c6950d1-9bd3-47c4-c5d7-47c9bc1eb1cf"
      },
      "outputs": [
        {
          "output_type": "stream",
          "name": "stdout",
          "text": [
            "Average age of passengers (ignoring missing data): 30.272590361445783\n"
          ]
        }
      ],
      "source": [
        "avg_age = df[\"Age\"].mean()\n",
        "print(\"Average age of passengers (ignoring missing data):\", avg_age)"
      ]
    },
    {
      "cell_type": "markdown",
      "metadata": {
        "id": "MiLwiSLfMHmW"
      },
      "source": [
        "Using the fillna() method replace the missing values in the Age column with the mean."
      ]
    },
    {
      "cell_type": "code",
      "execution_count": 29,
      "metadata": {
        "jupyter": {
          "outputs_hidden": false
        },
        "colab": {
          "base_uri": "https://localhost:8080/"
        },
        "id": "Ew6u9IWOMHmW",
        "outputId": "7dfdf132-db8e-430c-d34a-35044d4861fe"
      },
      "outputs": [
        {
          "output_type": "stream",
          "name": "stdout",
          "text": [
            "0\n"
          ]
        }
      ],
      "source": [
        "df[\"Age\"] = df[\"Age\"].fillna(df[\"Age\"].mean())\n",
        "print(df[\"Age\"].isnull().sum())"
      ]
    },
    {
      "cell_type": "markdown",
      "metadata": {
        "id": "cRWi8YqZMHmW"
      },
      "source": [
        "What is the average age of the 5 oldest passengers? The reset_index method will be helpful here."
      ]
    },
    {
      "cell_type": "code",
      "execution_count": 30,
      "metadata": {
        "jupyter": {
          "outputs_hidden": false
        },
        "colab": {
          "base_uri": "https://localhost:8080/"
        },
        "id": "T_bxmhaxMHmW",
        "outputId": "c91547f9-3427-4c89-e706-2c5f3d630ecd"
      },
      "outputs": [
        {
          "output_type": "stream",
          "name": "stdout",
          "text": [
            "Average age of the 5 oldest passengers: 67.0\n"
          ]
        }
      ],
      "source": [
        "avg_age_top5 = df.reset_index().nlargest(5, \"Age\")[\"Age\"].mean()\n",
        "print(\"Average age of the 5 oldest passengers:\", avg_age_top5)"
      ]
    }
  ],
  "metadata": {
    "kernelspec": {
      "display_name": "Python [conda env:base] *",
      "language": "python",
      "name": "conda-base-py"
    },
    "language_info": {
      "codemirror_mode": {
        "name": "ipython",
        "version": 3
      },
      "file_extension": ".py",
      "mimetype": "text/x-python",
      "name": "python",
      "nbconvert_exporter": "python",
      "pygments_lexer": "ipython3",
      "version": "3.12.7"
    },
    "toc": {
      "nav_menu": {
        "height": "48px",
        "width": "252px"
      },
      "number_sections": true,
      "sideBar": true,
      "skip_h1_title": false,
      "toc_cell": false,
      "toc_position": {},
      "toc_section_display": "block",
      "toc_window_display": false
    },
    "colab": {
      "provenance": [],
      "include_colab_link": true
    }
  },
  "nbformat": 4,
  "nbformat_minor": 0
}