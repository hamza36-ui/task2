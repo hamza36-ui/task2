{
  "nbformat": 4,
  "nbformat_minor": 0,
  "metadata": {
    "colab": {
      "provenance": [],
      "authorship_tag": "ABX9TyNGb+a6AaJc5pMtiDONjINy",
      "include_colab_link": true
    },
    "kernelspec": {
      "name": "python3",
      "display_name": "Python 3"
    },
    "language_info": {
      "name": "python"
    }
  },
  "cells": [
    {
      "cell_type": "markdown",
      "metadata": {
        "id": "view-in-github",
        "colab_type": "text"
      },
      "source": [
        "<a href=\"https://colab.research.google.com/github/hamza36-ui/task2/blob/main/Untitled6.ipynb\" target=\"_parent\"><img src=\"https://colab.research.google.com/assets/colab-badge.svg\" alt=\"Open In Colab\"/></a>"
      ]
    },
    {
      "cell_type": "code",
      "execution_count": 19,
      "metadata": {
        "colab": {
          "base_uri": "https://localhost:8080/"
        },
        "id": "NcqfsE-hJA3d",
        "outputId": "c88593a5-b88a-4d51-9bbf-876ec960539d"
      },
      "outputs": [
        {
          "output_type": "stream",
          "name": "stdout",
          "text": [
            "20.5\n",
            "20.5\n"
          ]
        }
      ],
      "source": [
        "ages = [18, 21, 20, 19, 22, 23, 20, 21, 22, 19]\n",
        "\n",
        "manual_mean = sum(ages) / len(ages)\n",
        "print(manual_mean)\n",
        "\n",
        "import numpy as np\n",
        "numpy_mean = np.mean(ages)\n",
        "print(numpy_mean)"
      ]
    },
    {
      "cell_type": "code",
      "source": [
        "import random\n",
        "import numpy as np\n",
        "\n",
        "numbers = [random.randint(10, 50) for _ in range(15)]\n",
        "print(numbers)\n",
        "\n",
        "def manual_sort(lst):\n",
        "    for i in range(len(lst)):\n",
        "        for j in range(i + 1, len(lst)):\n",
        "            if lst[j] < lst[i]:\n",
        "                lst[i], lst[j] = lst[j], lst[i]\n",
        "    return lst\n",
        "\n",
        "sorted_numbers = manual_sort(numbers.copy())\n",
        "print(sorted_numbers)\n",
        "\n",
        "n = len(sorted_numbers)\n",
        "if n % 2 == 1:\n",
        "    manual_median = sorted_numbers[n // 2]\n",
        "else:\n",
        "    mid1 = sorted_numbers[n // 2 - 1]\n",
        "    mid2 = sorted_numbers[n // 2]\n",
        "    manual_median = (mid1 + mid2) / 2\n",
        "\n",
        "print(manual_median)\n",
        "\n",
        "numpy_median = np.median(numbers)\n",
        "print(numpy_median)"
      ],
      "metadata": {
        "colab": {
          "base_uri": "https://localhost:8080/"
        },
        "id": "8kCrF866Kdb-",
        "outputId": "6b1eb27e-9cc5-4930-ae7d-d3f4bdd763c1"
      },
      "execution_count": 8,
      "outputs": [
        {
          "output_type": "stream",
          "name": "stdout",
          "text": [
            "[23, 16, 39, 24, 49, 20, 44, 32, 34, 41, 29, 36, 18, 23, 28]\n",
            "[16, 18, 20, 23, 23, 24, 28, 29, 32, 34, 36, 39, 41, 44, 49]\n",
            "29\n",
            "29.0\n"
          ]
        }
      ]
    },
    {
      "cell_type": "code",
      "source": [
        "import random\n",
        "import numpy as np\n",
        "\n",
        "numbers = [random.randint(10, 50) for _ in range(15)]\n",
        "print(numbers)\n",
        "min_val = numbers[0]\n",
        "max_val = numbers[0]\n",
        "\n",
        "for num in numbers:\n",
        "    if num < min_val:\n",
        "        min_val = num\n",
        "    if num > max_val:\n",
        "        max_val = num\n",
        "\n",
        "range_val = max_val - min_val\n",
        "\n",
        "np_min = np.min(numbers)\n",
        "np_max = np.max(numbers)\n",
        "np_range = np.ptp(numbers)\n",
        "\n",
        "\n",
        "print(min_val)\n",
        "print(max_val)\n",
        "print(range_val)\n",
        "\n",
        "\n",
        "print(np_min)\n",
        "print(np_max)\n",
        "print(np_range)"
      ],
      "metadata": {
        "colab": {
          "base_uri": "https://localhost:8080/"
        },
        "id": "jhwFp59pLBzs",
        "outputId": "b69ea189-1239-4cbc-9154-df61202b18f3"
      },
      "execution_count": 12,
      "outputs": [
        {
          "output_type": "stream",
          "name": "stdout",
          "text": [
            "[37, 18, 40, 31, 26, 23, 32, 34, 10, 32, 48, 11, 11, 47, 12]\n",
            "10\n",
            "48\n",
            "38\n",
            "10\n",
            "48\n",
            "38\n"
          ]
        }
      ]
    },
    {
      "cell_type": "code",
      "source": [
        "import numpy as np\n",
        "\n",
        "data = [5, 7, 3, 7, 9, 10, 15, 7]\n",
        "n = len(data)\n",
        "\n",
        "mean = sum(data) / n\n",
        "\n",
        "squared_diffs = [(x - mean) ** 2 for x in data]\n",
        "\n",
        "manual_variance = sum(squared_diffs) / n\n",
        "\n",
        "manual_std = manual_variance ** 0.5\n",
        "\n",
        "numpy_variance = np.var(data)\n",
        "numpy_std = np.std(data)\n",
        "\n",
        "print(mean)\n",
        "\n",
        "print(manual_variance)\n",
        "print(manual_std)\n",
        "\n",
        "\n",
        "print(numpy_variance)"
      ],
      "metadata": {
        "colab": {
          "base_uri": "https://localhost:8080/"
        },
        "id": "chHFYPJNMEUE",
        "outputId": "3ffeead4-3758-4897-e410-0e44132f3a16"
      },
      "execution_count": 13,
      "outputs": [
        {
          "output_type": "stream",
          "name": "stdout",
          "text": [
            "7.875\n",
            "11.359375\n",
            "3.370367190678191\n",
            "11.359375\n"
          ]
        }
      ]
    },
    {
      "cell_type": "code",
      "source": [
        "import numpy as np\n",
        "data = [12, 7, 3, 15, 8, 10, 6, 18, 20, 11]\n",
        "\n",
        "q1 = np.percentile(data, 25)\n",
        "q2 = np.percentile(data, 50)\n",
        "q3 = np.percentile(data, 75)\n",
        "\n",
        "iqr = q3 - q1\n",
        "\n",
        "print(q1)\n",
        "print(q2)\n",
        "print(q3)\n",
        "print(iqr)"
      ],
      "metadata": {
        "colab": {
          "base_uri": "https://localhost:8080/"
        },
        "id": "lDtuUGdZMt-d",
        "outputId": "afe5ab47-0809-4baf-ec02-04e4dd34095d"
      },
      "execution_count": 15,
      "outputs": [
        {
          "output_type": "stream",
          "name": "stdout",
          "text": [
            "7.25\n",
            "10.5\n",
            "14.25\n",
            "7.0\n"
          ]
        }
      ]
    },
    {
      "cell_type": "code",
      "source": [
        "def z_score_normalization(data):\n",
        "    n = len(data)\n",
        "    mean = sum(data) / n\n",
        "    variance = sum((x - mean) ** 2 for x in data) / n\n",
        "    std_dev = variance ** 0.5\n",
        "\n",
        "    z_scores = [(x - mean) / std_dev for x in data]\n",
        "    return z_scores\n",
        "\n",
        "data = [10, 12, 14, 16, 18]\n",
        "z_scores = z_score_normalization(data)\n",
        "\n",
        "print(data)\n",
        "print(z_scores)"
      ],
      "metadata": {
        "colab": {
          "base_uri": "https://localhost:8080/"
        },
        "id": "8B08x2h6NQTB",
        "outputId": "4833838d-bc3b-4736-e548-92b3a217a4af"
      },
      "execution_count": 16,
      "outputs": [
        {
          "output_type": "stream",
          "name": "stdout",
          "text": [
            "[10, 12, 14, 16, 18]\n",
            "[-1.414213562373095, -0.7071067811865475, 0.0, 0.7071067811865475, 1.414213562373095]\n"
          ]
        }
      ]
    },
    {
      "cell_type": "code",
      "source": [
        "import random\n",
        "import numpy as np\n",
        "\n",
        "data = [random.randint(1, 100) for _ in range(20)]\n",
        "print(data)\n",
        "\n",
        "def moving_average_manual(data, window_size):\n",
        "    averages = []\n",
        "    for i in range(len(data) - window_size + 1):\n",
        "        window = data[i:i+window_size]\n",
        "        avg = sum(window) / window_size\n",
        "        averages.append(avg)\n",
        "    return averages\n",
        "\n",
        "manual_ma = moving_average_manual(data, 3)\n",
        "\n",
        "kernel = np.ones(3) / 3\n",
        "convolved_ma = np.convolve(data, kernel, mode='valid')\n",
        "print(convolved_ma.tolist())"
      ],
      "metadata": {
        "colab": {
          "base_uri": "https://localhost:8080/"
        },
        "id": "BXz2NRYXNlsu",
        "outputId": "135cf411-7f8e-49ac-a571-e50a68a0c0bb"
      },
      "execution_count": 17,
      "outputs": [
        {
          "output_type": "stream",
          "name": "stdout",
          "text": [
            "[47, 5, 7, 91, 53, 37, 65, 74, 73, 33, 73, 49, 59, 36, 77, 57, 47, 33, 49, 96]\n",
            "[19.666666666666664, 34.33333333333333, 50.33333333333333, 60.33333333333333, 51.66666666666666, 58.666666666666664, 70.66666666666666, 60.0, 59.66666666666666, 51.66666666666666, 60.33333333333333, 48.0, 57.33333333333333, 56.666666666666664, 60.33333333333333, 45.666666666666664, 43.0, 59.33333333333333]\n"
          ]
        }
      ]
    },
    {
      "cell_type": "code",
      "source": [
        "import random\n",
        "import numpy as np\n",
        "\n",
        "data = [random.randint(1, 50) for _ in range(25)]\n",
        "data += [300, 400]\n",
        "print(data)\n",
        "\n",
        "q1 = np.percentile(data, 25)\n",
        "q3 = np.percentile(data, 75)\n",
        "iqr = q3 - q1\n",
        "\n",
        "lower_bound = q1 - 1.5 * iqr\n",
        "upper_bound = q3 + 1.5 * iqr\n",
        "outliers = [x for x in data if x < lower_bound or x > upper_bound]\n",
        "\n",
        "print(q1)\n",
        "print(q3)\n",
        "print(iqr)\n",
        "print(lower_bound)\n",
        "print(upper_bound)\n",
        "print(outliers)"
      ],
      "metadata": {
        "colab": {
          "base_uri": "https://localhost:8080/"
        },
        "id": "d4QZYVHROR8h",
        "outputId": "0835576b-0fb0-47d7-85d9-e11d38907c76"
      },
      "execution_count": 18,
      "outputs": [
        {
          "output_type": "stream",
          "name": "stdout",
          "text": [
            "[43, 46, 26, 31, 16, 29, 6, 32, 43, 12, 39, 43, 28, 42, 2, 15, 50, 32, 41, 8, 10, 30, 41, 37, 32, 300, 400]\n",
            "21.0\n",
            "42.5\n",
            "21.5\n",
            "-11.25\n",
            "74.75\n",
            "[300, 400]\n"
          ]
        }
      ]
    }
  ]
}